{
 "cells": [
  {
   "cell_type": "code",
   "execution_count": 1,
   "metadata": {},
   "outputs": [],
   "source": [
    "import pandas as pd\n",
    "import numpy as np\n",
    "import matplotlib.pyplot as plt"
   ]
  },
  {
   "cell_type": "code",
   "execution_count": 2,
   "metadata": {},
   "outputs": [],
   "source": [
    "# read all data\n",
    "\n",
    "games = pd.read_csv('games.csv')\n",
    "games.drop_duplicates(inplace=True, subset=['GAME_ID'])\n",
    "games_details = pd.read_csv('games_details.csv')\n",
    "players = pd.read_csv('players.csv')\n",
    "ranking = pd.read_csv('ranking.csv')\n",
    "teams = pd.read_csv('teams.csv')"
   ]
  },
  {
   "cell_type": "markdown",
   "metadata": {},
   "source": [
    "# 1. Data Preprocessing"
   ]
  },
  {
   "cell_type": "code",
   "execution_count": 3,
   "metadata": {},
   "outputs": [],
   "source": [
    "# Choose season to analyze\n",
    "# we will use 2015-16 throughout this report\n",
    "this_season = 2015"
   ]
  },
  {
   "cell_type": "markdown",
   "metadata": {},
   "source": [
    "### 1.1 Games"
   ]
  },
  {
   "cell_type": "code",
   "execution_count": 4,
   "metadata": {},
   "outputs": [
    {
     "name": "stdout",
     "output_type": "stream",
     "text": [
      "<class 'pandas.core.frame.DataFrame'>\n",
      "Int64Index: 24622 entries, 0 to 24676\n",
      "Data columns (total 21 columns):\n",
      " #   Column            Non-Null Count  Dtype  \n",
      "---  ------            --------------  -----  \n",
      " 0   GAME_DATE_EST     24622 non-null  object \n",
      " 1   GAME_ID           24622 non-null  int64  \n",
      " 2   GAME_STATUS_TEXT  24622 non-null  object \n",
      " 3   HOME_TEAM_ID      24622 non-null  int64  \n",
      " 4   VISITOR_TEAM_ID   24622 non-null  int64  \n",
      " 5   SEASON            24622 non-null  int64  \n",
      " 6   TEAM_ID_home      24622 non-null  int64  \n",
      " 7   PTS_home          24523 non-null  float64\n",
      " 8   FG_PCT_home       24523 non-null  float64\n",
      " 9   FT_PCT_home       24523 non-null  float64\n",
      " 10  FG3_PCT_home      24523 non-null  float64\n",
      " 11  AST_home          24523 non-null  float64\n",
      " 12  REB_home          24523 non-null  float64\n",
      " 13  TEAM_ID_away      24622 non-null  int64  \n",
      " 14  PTS_away          24523 non-null  float64\n",
      " 15  FG_PCT_away       24523 non-null  float64\n",
      " 16  FT_PCT_away       24523 non-null  float64\n",
      " 17  FG3_PCT_away      24523 non-null  float64\n",
      " 18  AST_away          24523 non-null  float64\n",
      " 19  REB_away          24523 non-null  float64\n",
      " 20  HOME_TEAM_WINS    24622 non-null  int64  \n",
      "dtypes: float64(12), int64(7), object(2)\n",
      "memory usage: 4.1+ MB\n"
     ]
    }
   ],
   "source": [
    "games.info()"
   ]
  },
  {
   "cell_type": "code",
   "execution_count": 5,
   "metadata": {},
   "outputs": [],
   "source": [
    "# change game date string -> datetime\n",
    "games['GAME_DATE_EST'] = pd.to_datetime(games['GAME_DATE_EST'])"
   ]
  },
  {
   "cell_type": "markdown",
   "metadata": {},
   "source": [
    "Get Regular Season Data"
   ]
  },
  {
   "cell_type": "code",
   "execution_count": 6,
   "metadata": {},
   "outputs": [],
   "source": [
    "import requests\n",
    "from bs4 import BeautifulSoup\n",
    "import re\n",
    "from datetime import datetime "
   ]
  },
  {
   "cell_type": "code",
   "execution_count": 7,
   "metadata": {},
   "outputs": [],
   "source": [
    "# to get 2015-16 season data, use season = 15\n",
    "# but note that for 2019-20 season, the regular season was from \n",
    "# 10/22/19-03-11/20, 07/30/20-08/14/20 due to COVID\n",
    "# so instead of season = 19, use the dates above and slice manually\n",
    "# regular games for other seasons can be obtained with this function\n",
    "\n",
    "def get_regular(season):\n",
    "    \n",
    "    #scrape regular season dates\n",
    "    url = \"https://en.wikipedia.org/wiki/20\" + str(season) + \"-\" + str(season+1) + \"_NBA_season\"\n",
    "    response = requests.get(url)\n",
    "    results_page = BeautifulSoup(response.content,'lxml')\n",
    "    season_dates = results_page.find('body').find('table', {'class':'infobox'}).find_all('tr')[3].find('td')\n",
    "    \n",
    "    pattern = r\"(\\w+)\\s(\\d+),\\s(\\d+)\\W+(\\w+)\\s(\\d+),\\s(\\d+)\"\n",
    "    me = re.search(pattern, str(season_dates))\n",
    "    \n",
    "    dates = (me.group(1), me.group(2), me.group(3), me.group(4), me.group(5), me.group(6))\n",
    "    \n",
    "    start_date = datetime.strptime(dates[0]+'/'+dates[1]+'/'+dates[2], '%B/%d/%Y')\n",
    "    end_date = datetime.strptime(dates[3]+'/'+dates[4]+'/'+dates[5], '%B/%d/%Y')\n",
    "    \n",
    "    # obtain regular games for this season\n",
    "    games_played_year = games[games['SEASON']==2000+season]\n",
    "    games_regular_year = games_played_year[(start_date<=games_played_year['GAME_DATE_EST'])\\\n",
    "                                            & (games_played_year['GAME_DATE_EST']<=end_date)]\n",
    "    \n",
    "    return games_regular_year\n",
    "\n",
    "# define a function that returns start and end dates (used later when computing elo)\n",
    "def get_regular_dates(season):\n",
    "    #scrape regular season dates\n",
    "    url = \"https://en.wikipedia.org/wiki/20\" + str(season) + \"-\" + str(season+1) + \"_NBA_season\"\n",
    "    response = requests.get(url)\n",
    "    results_page = BeautifulSoup(response.content,'lxml')\n",
    "    season_dates = results_page.find('body').find('table', {'class':'infobox'}).find_all('tr')[3].find('td')\n",
    "    \n",
    "    pattern = r\"(\\w+)\\s(\\d+),\\s(\\d+)\\W+(\\w+)\\s(\\d+),\\s(\\d+)\"\n",
    "    me = re.search(pattern, str(season_dates))\n",
    "    \n",
    "    dates = (me.group(1), me.group(2), me.group(3), me.group(4), me.group(5), me.group(6))\n",
    "    \n",
    "    start_date = datetime.strptime(dates[0]+'/'+dates[1]+'/'+dates[2], '%B/%d/%Y')\n",
    "    end_date = datetime.strptime(dates[3]+'/'+dates[4]+'/'+dates[5], '%B/%d/%Y')\n",
    "    \n",
    "    return (start_date, end_date)"
   ]
  },
  {
   "cell_type": "code",
   "execution_count": 8,
   "metadata": {},
   "outputs": [],
   "source": [
    "regular_games_2015 = get_regular(this_season-2000)"
   ]
  },
  {
   "cell_type": "markdown",
   "metadata": {},
   "source": [
    "### 1.2 games_details"
   ]
  },
  {
   "cell_type": "markdown",
   "metadata": {},
   "source": [
    "cleaning"
   ]
  },
  {
   "cell_type": "code",
   "execution_count": 9,
   "metadata": {},
   "outputs": [],
   "source": [
    "# drop start position, comment\n",
    "games_details.drop(columns = ['START_POSITION', 'COMMENT'], inplace = True)\n",
    "\n",
    "# fill other nan with 0s - nan just means player did not play, filling with 0 makes sense\n",
    "games_details.fillna(0, inplace = True)\n",
    "\n",
    "# convert MIN object -> float(seconds)\n",
    "games_details['MIN'] = games_details['MIN'].astype('str')\n",
    "\n",
    "def format_min(string):\n",
    "    if ':' in string:\n",
    "        t = 60*int(string[:-3]) + int(string[-2:])\n",
    "    else: \n",
    "        t = 60*int(string)\n",
    "    return t\n",
    "\n",
    "games_details['sec'] = games_details['MIN'].apply(lambda x: format_min(x))"
   ]
  },
  {
   "cell_type": "markdown",
   "metadata": {},
   "source": [
    "get regular season data"
   ]
  },
  {
   "cell_type": "code",
   "execution_count": 10,
   "metadata": {},
   "outputs": [],
   "source": [
    "games_details_master = games_details.join(games[['GAME_ID', 'SEASON', 'GAME_DATE_EST']].set_index('GAME_ID'), on = 'GAME_ID', how='left')\n",
    "\n",
    "def get_regular_details(season):\n",
    "    \n",
    "    regular_games_season = get_regular(season)\n",
    "    regular_games_details_season = games_details_master[games_details_master['GAME_ID'].isin(list(regular_games_season['GAME_ID']))]\n",
    "    \n",
    "    return regular_games_details_season"
   ]
  },
  {
   "cell_type": "code",
   "execution_count": 11,
   "metadata": {},
   "outputs": [],
   "source": [
    "regular_games_details_2015 = get_regular_details(this_season-2000)"
   ]
  },
  {
   "cell_type": "markdown",
   "metadata": {},
   "source": [
    "# 2. Feature Engineering"
   ]
  },
  {
   "cell_type": "markdown",
   "metadata": {},
   "source": [
    "### 2.1 Aggregating Individual Statistics to the Game Level"
   ]
  },
  {
   "cell_type": "markdown",
   "metadata": {},
   "source": [
    "Sum individual statistics to get game level statistics"
   ]
  },
  {
   "cell_type": "code",
   "execution_count": 12,
   "metadata": {},
   "outputs": [],
   "source": [
    "regular_games_2015['winner_ID'] = np.where(regular_games_2015['HOME_TEAM_WINS']==1, regular_games_2015['HOME_TEAM_ID'], regular_games_2015['VISITOR_TEAM_ID'])\n",
    "\n",
    "regular_games_stats_2015 = regular_games_details_2015.groupby(['GAME_ID', 'TEAM_ID'])[['FGM', 'FGA', 'FG3M', 'FG3A', 'FTM', 'FTA', 'REB', 'AST','OREB', 'DREB', 'STL', 'BLK', 'TO', 'PF', 'PTS']].sum().reset_index()\n",
    "regular_games_stats_2015 = regular_games_stats_2015.join(regular_games_2015[['GAME_DATE_EST', 'GAME_ID', 'SEASON']].set_index('GAME_ID'), on = 'GAME_ID')\n",
    "regular_games_stats_2015['order'] = regular_games_stats_2015.groupby('TEAM_ID')['GAME_DATE_EST'].rank(method='first')\n"
   ]
  },
  {
   "cell_type": "markdown",
   "metadata": {},
   "source": [
    "We have two rows for each game. To combine them into a single row: <br>\n",
    "Join home data for home team, away data for visitor team"
   ]
  },
  {
   "cell_type": "code",
   "execution_count": 13,
   "metadata": {},
   "outputs": [],
   "source": [
    "# add column 'win' to distinguish home and away team\n",
    "winner_table_2015 = regular_games_stats_2015[['GAME_ID', 'TEAM_ID', 'SEASON', 'order']].join(regular_games_2015[['GAME_ID', 'winner_ID']].set_index('GAME_ID'), how = 'left', on = 'GAME_ID')\n",
    "winner_table_2015['win'] = np.where(winner_table_2015['TEAM_ID'] == winner_table_2015['winner_ID'], 1, 0)\n",
    "\n",
    "regular_games_stats_2015 = regular_games_stats_2015.join(winner_table_2015[['GAME_ID', 'TEAM_ID', 'win']].set_index(['GAME_ID', 'TEAM_ID']), how = 'left', on = ['GAME_ID', 'TEAM_ID'])\n",
    "\n",
    "# Join home, away data for corresponding team \n",
    "cols2 = ['GAME_ID', 'TEAM_ID', 'FGM', 'FGA', 'FG3M', 'FG3A', 'FTM', 'FTA', 'OREB', 'DREB', 'STL', 'BLK', 'TO', 'PF', 'order', 'win']\n",
    "cols3 = ['FGM', 'FGA', 'FG3M', 'FG3A', 'FTM', 'FTA', 'OREB', 'DREB', 'STL', 'BLK', 'TO', 'PF', 'order', 'win']\n",
    "\n",
    "cols3_dict = dict([(col, col+\"_home\") for col in cols3])\n",
    "cols4_dict = dict([(col, col+\"_away\") for col in cols3])\n",
    "\n",
    "regular_games_2015 = regular_games_2015.join(regular_games_stats_2015[cols2].set_index(['GAME_ID', 'TEAM_ID']), how = 'left', on = ['GAME_ID', 'HOME_TEAM_ID'])\n",
    "regular_games_2015 = regular_games_2015.rename(columns = cols3_dict)\n",
    "regular_games_2015 = regular_games_2015.join(regular_games_stats_2015[cols2].set_index(['GAME_ID', 'TEAM_ID']), how = 'left', on = ['GAME_ID', 'VISITOR_TEAM_ID'])\n",
    "regular_games_2015 = regular_games_2015.rename(columns = cols4_dict)\n",
    "\n"
   ]
  },
  {
   "cell_type": "markdown",
   "metadata": {},
   "source": [
    "Calulate efficiency for each game"
   ]
  },
  {
   "cell_type": "code",
   "execution_count": 14,
   "metadata": {},
   "outputs": [],
   "source": [
    "regular_games_2015['Total_posessioins_home'] = regular_games_2015['FGA_home'] - regular_games_2015['OREB_home'] + regular_games_2015['TO_home'] + 0.4*regular_games_2015['FTA_home']\n",
    "regular_games_2015['Total_posessioins_away'] = regular_games_2015['FGA_away'] - regular_games_2015['OREB_away'] + regular_games_2015['TO_away'] + 0.4*regular_games_2015['FTA_away']\n",
    "\n",
    "regular_games_2015['Offensive_efficiency_home'] = regular_games_2015['PTS_home']/regular_games_2015['Total_posessioins_home']\n",
    "regular_games_2015['Offensive_efficiency_away'] = regular_games_2015['PTS_away']/regular_games_2015['Total_posessioins_away']\n",
    "\n",
    "regular_games_2015['Defensive_efficiency_home'] = regular_games_2015['PTS_away']/regular_games_2015['Total_posessioins_home']\n",
    "regular_games_2015['Defensive_efficiency_away'] = regular_games_2015['PTS_home']/regular_games_2015['Total_posessioins_away']\n",
    "# Higher value of Defensive efficiency = bad defense"
   ]
  },
  {
   "cell_type": "markdown",
   "metadata": {},
   "source": [
    "Leave only necessary columns"
   ]
  },
  {
   "cell_type": "code",
   "execution_count": 15,
   "metadata": {},
   "outputs": [],
   "source": [
    "# let's only get the columns that we need\n",
    "regular_games_2015 = regular_games_2015[['GAME_DATE_EST', 'GAME_ID', 'HOME_TEAM_ID', 'VISITOR_TEAM_ID', 'SEASON',\n",
    "        'HOME_TEAM_WINS',\n",
    "       'Offensive_efficiency_home', 'Offensive_efficiency_away',\n",
    "       'Defensive_efficiency_home', 'Defensive_efficiency_away']]\n",
    "\n",
    "# sort by date\n",
    "regular_games_2015.sort_values(by = 'GAME_DATE_EST', ascending=True, inplace=True)"
   ]
  },
  {
   "cell_type": "markdown",
   "metadata": {},
   "source": [
    "Create a base table that will be used in aggregation of past data"
   ]
  },
  {
   "cell_type": "code",
   "execution_count": 16,
   "metadata": {},
   "outputs": [],
   "source": [
    "base_2015 = regular_games_2015[['GAME_ID', 'GAME_DATE_EST', 'SEASON', 'HOME_TEAM_ID', 'VISITOR_TEAM_ID', 'HOME_TEAM_WINS']]"
   ]
  },
  {
   "cell_type": "markdown",
   "metadata": {},
   "source": [
    "### 2.2 Aggregating Past Game Data"
   ]
  },
  {
   "cell_type": "markdown",
   "metadata": {},
   "source": [
    "Now we compute features that will be used in EDA and modeling. <br>\n",
    "To do that, we aggregate past games for each team this season. "
   ]
  },
  {
   "cell_type": "markdown",
   "metadata": {},
   "source": [
    "**1. Home Advantage** (Home over overall, away over overall)"
   ]
  },
  {
   "cell_type": "code",
   "execution_count": 17,
   "metadata": {},
   "outputs": [
    {
     "name": "stderr",
     "output_type": "stream",
     "text": [
      "<ipython-input-17-275c22dd8cd1>:39: SettingWithCopyWarning: \n",
      "A value is trying to be set on a copy of a slice from a DataFrame.\n",
      "Try using .loc[row_indexer,col_indexer] = value instead\n",
      "\n",
      "See the caveats in the documentation: https://pandas.pydata.org/pandas-docs/stable/user_guide/indexing.html#returning-a-view-versus-a-copy\n",
      "  base_2015[\"home_rate\"] = [0]*len(base_2015)\n",
      "<ipython-input-17-275c22dd8cd1>:40: SettingWithCopyWarning: \n",
      "A value is trying to be set on a copy of a slice from a DataFrame.\n",
      "Try using .loc[row_indexer,col_indexer] = value instead\n",
      "\n",
      "See the caveats in the documentation: https://pandas.pydata.org/pandas-docs/stable/user_guide/indexing.html#returning-a-view-versus-a-copy\n",
      "  base_2015[\"away_rate\"] = [0]*len(base_2015)\n",
      "<ipython-input-17-275c22dd8cd1>:41: SettingWithCopyWarning: \n",
      "A value is trying to be set on a copy of a slice from a DataFrame.\n",
      "Try using .loc[row_indexer,col_indexer] = value instead\n",
      "\n",
      "See the caveats in the documentation: https://pandas.pydata.org/pandas-docs/stable/user_guide/indexing.html#returning-a-view-versus-a-copy\n",
      "  base_2015[\"home_over_overall\"] = [0]*len(base_2015)\n"
     ]
    }
   ],
   "source": [
    "games_dict = {}\n",
    "teams_dict= {}\n",
    "#every team id corresponds to [home total #, home win #, away total#, away won#]\n",
    "\n",
    "# populate games_dict\n",
    "for index, row in regular_games_2015.iterrows():\n",
    "    if row[\"HOME_TEAM_ID\"] not in teams_dict:\n",
    "        teams_dict[row[\"HOME_TEAM_ID\"]] = [0,0,0,0]\n",
    "    if row[\"VISITOR_TEAM_ID\"] not in teams_dict:\n",
    "        teams_dict[row[\"VISITOR_TEAM_ID\"]] = [0,0,0,0]\n",
    "    if teams_dict[row[\"HOME_TEAM_ID\"]][0] == 0:\n",
    "        home= 0\n",
    "        overall_hometeam = 0\n",
    "    else:\n",
    "        home = teams_dict[row['HOME_TEAM_ID']][1] / teams_dict[row['HOME_TEAM_ID']][0]\n",
    "        overall_hometeam = (teams_dict[row['HOME_TEAM_ID']][1]+teams_dict[row['HOME_TEAM_ID']][3])/(teams_dict[row['HOME_TEAM_ID']][0] + teams_dict[row['HOME_TEAM_ID']][2])\n",
    "\n",
    "    if teams_dict[row['VISITOR_TEAM_ID']][2] == 0:\n",
    "        away = 0\n",
    "        overall_awayteam = 0\n",
    "    else:\n",
    "        away = teams_dict[row['VISITOR_TEAM_ID']][3]/ teams_dict[row['VISITOR_TEAM_ID']][2]\n",
    "        overall_awayteam = (teams_dict[row['VISITOR_TEAM_ID']][1]+teams_dict[row['VISITOR_TEAM_ID']][3])/(teams_dict[row['VISITOR_TEAM_ID']][0] + teams_dict[row['VISITOR_TEAM_ID']][2])\n",
    "    games_dict[row['GAME_ID']] = (home, away, overall_hometeam, overall_awayteam)\n",
    "    # games_dict                  home team's win rate at its home game\n",
    "    #                                   away team's win rate at its away game\n",
    "                                              # home team overall win rate\n",
    "                                                                # away team overall win rate\n",
    "\n",
    "    teams_dict[row['HOME_TEAM_ID']][0]+=1\n",
    "    teams_dict[row['VISITOR_TEAM_ID']][2]+=1\n",
    "\n",
    "    if row['HOME_TEAM_WINS'] == 1:\n",
    "        teams_dict[row['HOME_TEAM_ID']][1] += 1\n",
    "    elif row['HOME_TEAM_WINS']== 0:\n",
    "        teams_dict[row['VISITOR_TEAM_ID']][3] += 1\n",
    "\n",
    "# write data from games_dict to dataframe\n",
    "base_2015[\"home_rate\"] = [0]*len(base_2015)\n",
    "base_2015[\"away_rate\"] = [0]*len(base_2015)\n",
    "base_2015[\"home_over_overall\"] = [0]*len(base_2015)\n",
    "base_2015[\"away_over_overall\"] = [0]*len(base_2015)\n",
    "\n",
    "for game_id, (home, away, overall_hometeam, overall_awayteam) in games_dict.items():\n",
    "    base_2015.loc[base_2015['GAME_ID']==game_id,'home_rate'] = home\n",
    "    base_2015.loc[base_2015['GAME_ID']==game_id,'away_rate'] = away\n",
    "    base_2015.loc[base_2015['GAME_ID']==game_id,'home_over_overall'] = home/overall_hometeam if overall_hometeam != 0 else 0\n",
    "    base_2015.loc[base_2015['GAME_ID']==game_id,'away_over_overall'] = away/overall_awayteam if overall_awayteam != 0 else 0\n"
   ]
  },
  {
   "cell_type": "markdown",
   "metadata": {},
   "source": [
    "**2. Momentum, Efficiencies** (We take the average of data from past 5 games to predict each game)"
   ]
  },
  {
   "cell_type": "markdown",
   "metadata": {},
   "source": [
    "Prepare table for aggregation"
   ]
  },
  {
   "cell_type": "code",
   "execution_count": 18,
   "metadata": {},
   "outputs": [],
   "source": [
    "stats_before_agg = regular_games_stats_2015[['GAME_ID', 'GAME_DATE_EST','SEASON','TEAM_ID', 'order', 'win']].merge(\\\n",
    "                                                regular_games_2015[['GAME_ID', 'HOME_TEAM_ID',\\\n",
    "                                                  'Offensive_efficiency_home', 'Defensive_efficiency_home']].rename(columns = \\\n",
    "                                                {'HOME_TEAM_ID':'TEAM_ID'}), on=['GAME_ID', 'TEAM_ID'], how='left').merge(\\\n",
    "                                regular_games_2015[['GAME_ID', 'VISITOR_TEAM_ID',\\\n",
    "                                'Offensive_efficiency_away', 'Defensive_efficiency_away']].rename(columns = \\\n",
    "                                {'VISITOR_TEAM_ID':'TEAM_ID'}), on=['GAME_ID', 'TEAM_ID'], how='left')\n",
    "\n",
    "stats_before_agg['Offensive_efficiency'] = stats_before_agg['Offensive_efficiency_home'].fillna(0) + stats_before_agg['Offensive_efficiency_away'].fillna(0)\n",
    "stats_before_agg['Defensive_efficiency'] = stats_before_agg['Defensive_efficiency_home'].fillna(0) + stats_before_agg['Defensive_efficiency_away'].fillna(0)\n",
    "\n",
    "stats_before_agg.drop(columns = ['Offensive_efficiency_home', 'Defensive_efficiency_home', 'Offensive_efficiency_away', 'Defensive_efficiency_away'], inplace=True)"
   ]
  },
  {
   "cell_type": "markdown",
   "metadata": {},
   "source": [
    "Aggregate past 5 games"
   ]
  },
  {
   "cell_type": "code",
   "execution_count": 19,
   "metadata": {},
   "outputs": [
    {
     "name": "stderr",
     "output_type": "stream",
     "text": [
      "<ipython-input-19-aecd616f9dc1>:8: SettingWithCopyWarning: \n",
      "A value is trying to be set on a copy of a slice from a DataFrame.\n",
      "Try using .loc[row_indexer,col_indexer] = value instead\n",
      "\n",
      "See the caveats in the documentation: https://pandas.pydata.org/pandas-docs/stable/user_guide/indexing.html#returning-a-view-versus-a-copy\n",
      "  df[col+'_avg5'] = df[col].shift(1).rolling(5).mean()\n"
     ]
    }
   ],
   "source": [
    "team_ids = list(teams['TEAM_ID'])\n",
    "cols_agg = ['win', 'Offensive_efficiency', 'Defensive_efficiency']\n",
    "stats_agg = pd.DataFrame()\n",
    "\n",
    "for team in team_ids: \n",
    "    df = stats_before_agg[stats_before_agg['TEAM_ID']==team]\n",
    "    for col in cols_agg: \n",
    "        df[col+'_avg5'] = df[col].shift(1).rolling(5).mean()\n",
    "    stats_agg = pd.concat([stats_agg, df], ignore_index=True)\n",
    "    \n",
    "stats_agg.drop(columns = cols_agg, inplace=True)"
   ]
  },
  {
   "cell_type": "markdown",
   "metadata": {},
   "source": [
    "Join home, away data to corresponding team"
   ]
  },
  {
   "cell_type": "code",
   "execution_count": 20,
   "metadata": {},
   "outputs": [],
   "source": [
    "cols5 = ['win_avg5', 'Offensive_efficiency_avg5', 'Defensive_efficiency_avg5']\n",
    "cols6 = ['win_avg5', 'Offensive_efficiency_avg5', 'Defensive_efficiency_avg5', 'GAME_ID', 'TEAM_ID']\n",
    "\n",
    "cols5_home_dict = dict([(col, col+\"_home\") for col in cols5])\n",
    "cols5_away_dict = dict([(col, col+\"_away\") for col in cols5])\n",
    "\n",
    "base_2015_new = base_2015.join(stats_agg[cols6].set_index(['GAME_ID', 'TEAM_ID']), how = 'left', on = ['GAME_ID', 'HOME_TEAM_ID'])\n",
    "base_2015_new = base_2015_new.rename(columns = cols5_home_dict)\n",
    "base_2015_new = base_2015_new.join(stats_agg[cols6].set_index(['GAME_ID', 'TEAM_ID']), how = 'left', on = ['GAME_ID', 'VISITOR_TEAM_ID'])\n",
    "base_2015_new = base_2015_new.rename(columns = cols5_away_dict)"
   ]
  },
  {
   "cell_type": "markdown",
   "metadata": {},
   "source": [
    "**3. Strength** (ELO)"
   ]
  },
  {
   "cell_type": "markdown",
   "metadata": {},
   "source": [
    "Generator for datetime range"
   ]
  },
  {
   "cell_type": "code",
   "execution_count": 21,
   "metadata": {},
   "outputs": [],
   "source": [
    "from datetime import timedelta\n",
    "\n",
    "def datetime_range(start=None, end=None):\n",
    "    span = end - start\n",
    "    for i in range(span.days + 1):\n",
    "        yield start + timedelta(days=i)"
   ]
  },
  {
   "cell_type": "markdown",
   "metadata": {},
   "source": [
    "Helper function that calculates elo of next day"
   ]
  },
  {
   "cell_type": "code",
   "execution_count": 22,
   "metadata": {},
   "outputs": [],
   "source": [
    "def get_elo_next(season, base_table, day, k):\n",
    "    \n",
    "    regular = get_regular(season-2000)\n",
    "    \n",
    "    games_today = regular[regular['GAME_DATE_EST']==day]\n",
    "    elo_today = base_table[base_table['date']==day]\n",
    "    \n",
    "    elo_next_day = elo_today.copy()\n",
    "    elo_next_day['date'] = day + timedelta(days=1)\n",
    "\n",
    "    for index,row in games_today.iterrows():\n",
    "        if row['HOME_TEAM_WINS'] ==1 :\n",
    "            winner_id = row['HOME_TEAM_ID']\n",
    "            loser_id = row['VISITOR_TEAM_ID']\n",
    "        else: \n",
    "            winner_id = row['VISITOR_TEAM_ID']\n",
    "            loser_id = row['HOME_TEAM_ID']\n",
    "\n",
    "        winner_elo = float(elo_today[elo_today['TEAM_ID']==winner_id]['rating'])\n",
    "        loser_elo = float(elo_today[elo_today['TEAM_ID']==loser_id]['rating'])\n",
    "\n",
    "        winner_prob = (1.0 / (1.0 + 10**((loser_elo-winner_elo) / 400)))\n",
    "        loser_prob = (1.0 / (1.0 + 10**((winner_elo-loser_elo) / 400)))\n",
    "\n",
    "        winner_new_elo = winner_elo + k*(1-winner_prob)\n",
    "        loser_new_elo = loser_elo + k*(0-loser_prob)\n",
    "\n",
    "        elo_next_day.loc[elo_next_day['TEAM_ID']==winner_id, 'rating'] = winner_new_elo\n",
    "        elo_next_day.loc[elo_next_day['TEAM_ID']==loser_id, 'rating'] = loser_new_elo\n",
    "        \n",
    "    return elo_next_day\n"
   ]
  },
  {
   "cell_type": "markdown",
   "metadata": {},
   "source": [
    "Function that creates ELO of season"
   ]
  },
  {
   "cell_type": "code",
   "execution_count": 23,
   "metadata": {},
   "outputs": [],
   "source": [
    "def get_elo_season(season, k):\n",
    "    \n",
    "    season_start, season_end = get_regular_dates(season-2000)\n",
    "\n",
    "    teams_elo = teams[['TEAM_ID', 'ABBREVIATION']].copy()\n",
    "    teams_elo['date'] = season_start\n",
    "    teams_elo['rating'] = 1500\n",
    "    \n",
    "    drange = datetime_range(start=season_start, end=season_end)\n",
    "    \n",
    "    for day in drange:\n",
    "        next_day_elo = get_elo_next(season,teams_elo,day,k)\n",
    "        teams_elo = pd.concat([teams_elo, next_day_elo], ignore_index=True)\n",
    "    \n",
    "    return teams_elo"
   ]
  },
  {
   "cell_type": "markdown",
   "metadata": {},
   "source": [
    "Compute ELO for 2015 season"
   ]
  },
  {
   "cell_type": "code",
   "execution_count": 24,
   "metadata": {},
   "outputs": [],
   "source": [
    "teams_elo_2015 = get_elo_season(this_season,20)"
   ]
  },
  {
   "cell_type": "markdown",
   "metadata": {},
   "source": [
    "Add ELO to base table"
   ]
  },
  {
   "cell_type": "code",
   "execution_count": 25,
   "metadata": {},
   "outputs": [],
   "source": [
    "base_2015_final = base_2015_new.join(teams_elo_2015[['TEAM_ID', 'date', 'rating']].set_index(['TEAM_ID', 'date']), how = 'left', on = ['HOME_TEAM_ID', 'GAME_DATE_EST'])\n",
    "base_2015_final = base_2015_final.rename(columns = {'rating':'elo_home'})\n",
    "base_2015_final = base_2015_final.join(teams_elo_2015[['TEAM_ID', 'date', 'rating']].set_index(['TEAM_ID', 'date']), how = 'left', on = ['VISITOR_TEAM_ID', 'GAME_DATE_EST'])\n",
    "base_2015_final = base_2015_final.rename(columns = {'rating':'elo_away'})"
   ]
  },
  {
   "cell_type": "markdown",
   "metadata": {},
   "source": [
    "# 3. Convert tables into csv files for later use "
   ]
  },
  {
   "cell_type": "markdown",
   "metadata": {},
   "source": [
    "This is the table that will be used for EDA and modeling. There are 30 teams in the NBA, and 82 games for each team. 82*30/2 = 1230"
   ]
  },
  {
   "cell_type": "code",
   "execution_count": 26,
   "metadata": {},
   "outputs": [
    {
     "data": {
      "text/html": [
       "<div>\n",
       "<style scoped>\n",
       "    .dataframe tbody tr th:only-of-type {\n",
       "        vertical-align: middle;\n",
       "    }\n",
       "\n",
       "    .dataframe tbody tr th {\n",
       "        vertical-align: top;\n",
       "    }\n",
       "\n",
       "    .dataframe thead th {\n",
       "        text-align: right;\n",
       "    }\n",
       "</style>\n",
       "<table border=\"1\" class=\"dataframe\">\n",
       "  <thead>\n",
       "    <tr style=\"text-align: right;\">\n",
       "      <th></th>\n",
       "      <th>GAME_ID</th>\n",
       "      <th>GAME_DATE_EST</th>\n",
       "      <th>SEASON</th>\n",
       "      <th>HOME_TEAM_ID</th>\n",
       "      <th>VISITOR_TEAM_ID</th>\n",
       "      <th>HOME_TEAM_WINS</th>\n",
       "      <th>home_rate</th>\n",
       "      <th>away_rate</th>\n",
       "      <th>home_over_overall</th>\n",
       "      <th>away_over_overall</th>\n",
       "      <th>win_avg5_home</th>\n",
       "      <th>Offensive_efficiency_avg5_home</th>\n",
       "      <th>Defensive_efficiency_avg5_home</th>\n",
       "      <th>win_avg5_away</th>\n",
       "      <th>Offensive_efficiency_avg5_away</th>\n",
       "      <th>Defensive_efficiency_avg5_away</th>\n",
       "      <th>elo_home</th>\n",
       "      <th>elo_away</th>\n",
       "    </tr>\n",
       "  </thead>\n",
       "  <tbody>\n",
       "    <tr>\n",
       "      <th>23158</th>\n",
       "      <td>21500003</td>\n",
       "      <td>2015-10-27</td>\n",
       "      <td>2015</td>\n",
       "      <td>1610612744</td>\n",
       "      <td>1610612740</td>\n",
       "      <td>1</td>\n",
       "      <td>0.000</td>\n",
       "      <td>0.000</td>\n",
       "      <td>0.000000</td>\n",
       "      <td>0.000000</td>\n",
       "      <td>NaN</td>\n",
       "      <td>NaN</td>\n",
       "      <td>NaN</td>\n",
       "      <td>NaN</td>\n",
       "      <td>NaN</td>\n",
       "      <td>NaN</td>\n",
       "      <td>1500.000000</td>\n",
       "      <td>1500.000000</td>\n",
       "    </tr>\n",
       "    <tr>\n",
       "      <th>23157</th>\n",
       "      <td>21500002</td>\n",
       "      <td>2015-10-27</td>\n",
       "      <td>2015</td>\n",
       "      <td>1610612741</td>\n",
       "      <td>1610612739</td>\n",
       "      <td>1</td>\n",
       "      <td>0.000</td>\n",
       "      <td>0.000</td>\n",
       "      <td>0.000000</td>\n",
       "      <td>0.000000</td>\n",
       "      <td>NaN</td>\n",
       "      <td>NaN</td>\n",
       "      <td>NaN</td>\n",
       "      <td>NaN</td>\n",
       "      <td>NaN</td>\n",
       "      <td>NaN</td>\n",
       "      <td>1500.000000</td>\n",
       "      <td>1500.000000</td>\n",
       "    </tr>\n",
       "    <tr>\n",
       "      <th>23156</th>\n",
       "      <td>21500001</td>\n",
       "      <td>2015-10-27</td>\n",
       "      <td>2015</td>\n",
       "      <td>1610612737</td>\n",
       "      <td>1610612765</td>\n",
       "      <td>0</td>\n",
       "      <td>0.000</td>\n",
       "      <td>0.000</td>\n",
       "      <td>0.000000</td>\n",
       "      <td>0.000000</td>\n",
       "      <td>NaN</td>\n",
       "      <td>NaN</td>\n",
       "      <td>NaN</td>\n",
       "      <td>NaN</td>\n",
       "      <td>NaN</td>\n",
       "      <td>NaN</td>\n",
       "      <td>1500.000000</td>\n",
       "      <td>1500.000000</td>\n",
       "    </tr>\n",
       "    <tr>\n",
       "      <th>23142</th>\n",
       "      <td>21500004</td>\n",
       "      <td>2015-10-28</td>\n",
       "      <td>2015</td>\n",
       "      <td>1610612753</td>\n",
       "      <td>1610612764</td>\n",
       "      <td>0</td>\n",
       "      <td>0.000</td>\n",
       "      <td>0.000</td>\n",
       "      <td>0.000000</td>\n",
       "      <td>0.000000</td>\n",
       "      <td>NaN</td>\n",
       "      <td>NaN</td>\n",
       "      <td>NaN</td>\n",
       "      <td>NaN</td>\n",
       "      <td>NaN</td>\n",
       "      <td>NaN</td>\n",
       "      <td>1500.000000</td>\n",
       "      <td>1500.000000</td>\n",
       "    </tr>\n",
       "    <tr>\n",
       "      <th>23143</th>\n",
       "      <td>21500005</td>\n",
       "      <td>2015-10-28</td>\n",
       "      <td>2015</td>\n",
       "      <td>1610612738</td>\n",
       "      <td>1610612755</td>\n",
       "      <td>1</td>\n",
       "      <td>0.000</td>\n",
       "      <td>0.000</td>\n",
       "      <td>0.000000</td>\n",
       "      <td>0.000000</td>\n",
       "      <td>NaN</td>\n",
       "      <td>NaN</td>\n",
       "      <td>NaN</td>\n",
       "      <td>NaN</td>\n",
       "      <td>NaN</td>\n",
       "      <td>NaN</td>\n",
       "      <td>1500.000000</td>\n",
       "      <td>1500.000000</td>\n",
       "    </tr>\n",
       "    <tr>\n",
       "      <th>...</th>\n",
       "      <td>...</td>\n",
       "      <td>...</td>\n",
       "      <td>...</td>\n",
       "      <td>...</td>\n",
       "      <td>...</td>\n",
       "      <td>...</td>\n",
       "      <td>...</td>\n",
       "      <td>...</td>\n",
       "      <td>...</td>\n",
       "      <td>...</td>\n",
       "      <td>...</td>\n",
       "      <td>...</td>\n",
       "      <td>...</td>\n",
       "      <td>...</td>\n",
       "      <td>...</td>\n",
       "      <td>...</td>\n",
       "      <td>...</td>\n",
       "      <td>...</td>\n",
       "    </tr>\n",
       "    <tr>\n",
       "      <th>21940</th>\n",
       "      <td>21501228</td>\n",
       "      <td>2016-04-13</td>\n",
       "      <td>2015</td>\n",
       "      <td>1610612747</td>\n",
       "      <td>1610612762</td>\n",
       "      <td>1</td>\n",
       "      <td>0.275</td>\n",
       "      <td>0.400</td>\n",
       "      <td>1.392188</td>\n",
       "      <td>0.810000</td>\n",
       "      <td>0.0</td>\n",
       "      <td>0.939859</td>\n",
       "      <td>1.131814</td>\n",
       "      <td>0.4</td>\n",
       "      <td>1.052562</td>\n",
       "      <td>1.014081</td>\n",
       "      <td>1297.919130</td>\n",
       "      <td>1509.965604</td>\n",
       "    </tr>\n",
       "    <tr>\n",
       "      <th>21941</th>\n",
       "      <td>21501229</td>\n",
       "      <td>2016-04-13</td>\n",
       "      <td>2015</td>\n",
       "      <td>1610612756</td>\n",
       "      <td>1610612746</td>\n",
       "      <td>1</td>\n",
       "      <td>0.325</td>\n",
       "      <td>0.600</td>\n",
       "      <td>1.196591</td>\n",
       "      <td>0.916981</td>\n",
       "      <td>0.4</td>\n",
       "      <td>1.013044</td>\n",
       "      <td>1.018009</td>\n",
       "      <td>1.0</td>\n",
       "      <td>1.106714</td>\n",
       "      <td>0.955229</td>\n",
       "      <td>1330.250343</td>\n",
       "      <td>1619.637738</td>\n",
       "    </tr>\n",
       "    <tr>\n",
       "      <th>21942</th>\n",
       "      <td>21501230</td>\n",
       "      <td>2016-04-13</td>\n",
       "      <td>2015</td>\n",
       "      <td>1610612757</td>\n",
       "      <td>1610612743</td>\n",
       "      <td>1</td>\n",
       "      <td>0.675</td>\n",
       "      <td>0.375</td>\n",
       "      <td>1.271512</td>\n",
       "      <td>0.920455</td>\n",
       "      <td>0.6</td>\n",
       "      <td>1.151729</td>\n",
       "      <td>1.141826</td>\n",
       "      <td>0.2</td>\n",
       "      <td>1.012882</td>\n",
       "      <td>1.113672</td>\n",
       "      <td>1562.671224</td>\n",
       "      <td>1439.808120</td>\n",
       "    </tr>\n",
       "    <tr>\n",
       "      <th>21937</th>\n",
       "      <td>21501225</td>\n",
       "      <td>2016-04-13</td>\n",
       "      <td>2015</td>\n",
       "      <td>1610612749</td>\n",
       "      <td>1610612754</td>\n",
       "      <td>0</td>\n",
       "      <td>0.575</td>\n",
       "      <td>0.450</td>\n",
       "      <td>1.411364</td>\n",
       "      <td>0.828409</td>\n",
       "      <td>0.2</td>\n",
       "      <td>0.999480</td>\n",
       "      <td>1.116903</td>\n",
       "      <td>0.8</td>\n",
       "      <td>1.135727</td>\n",
       "      <td>1.051745</td>\n",
       "      <td>1432.840377</td>\n",
       "      <td>1527.443124</td>\n",
       "    </tr>\n",
       "    <tr>\n",
       "      <th>21929</th>\n",
       "      <td>21501217</td>\n",
       "      <td>2016-04-13</td>\n",
       "      <td>2015</td>\n",
       "      <td>1610612738</td>\n",
       "      <td>1610612748</td>\n",
       "      <td>1</td>\n",
       "      <td>0.675</td>\n",
       "      <td>0.500</td>\n",
       "      <td>1.163298</td>\n",
       "      <td>0.843750</td>\n",
       "      <td>0.6</td>\n",
       "      <td>1.064400</td>\n",
       "      <td>1.056686</td>\n",
       "      <td>0.8</td>\n",
       "      <td>1.140118</td>\n",
       "      <td>1.031627</td>\n",
       "      <td>1561.682110</td>\n",
       "      <td>1570.319303</td>\n",
       "    </tr>\n",
       "  </tbody>\n",
       "</table>\n",
       "<p>1230 rows × 18 columns</p>\n",
       "</div>"
      ],
      "text/plain": [
       "        GAME_ID GAME_DATE_EST  SEASON  HOME_TEAM_ID  VISITOR_TEAM_ID  \\\n",
       "23158  21500003    2015-10-27    2015    1610612744       1610612740   \n",
       "23157  21500002    2015-10-27    2015    1610612741       1610612739   \n",
       "23156  21500001    2015-10-27    2015    1610612737       1610612765   \n",
       "23142  21500004    2015-10-28    2015    1610612753       1610612764   \n",
       "23143  21500005    2015-10-28    2015    1610612738       1610612755   \n",
       "...         ...           ...     ...           ...              ...   \n",
       "21940  21501228    2016-04-13    2015    1610612747       1610612762   \n",
       "21941  21501229    2016-04-13    2015    1610612756       1610612746   \n",
       "21942  21501230    2016-04-13    2015    1610612757       1610612743   \n",
       "21937  21501225    2016-04-13    2015    1610612749       1610612754   \n",
       "21929  21501217    2016-04-13    2015    1610612738       1610612748   \n",
       "\n",
       "       HOME_TEAM_WINS  home_rate  away_rate  home_over_overall  \\\n",
       "23158               1      0.000      0.000           0.000000   \n",
       "23157               1      0.000      0.000           0.000000   \n",
       "23156               0      0.000      0.000           0.000000   \n",
       "23142               0      0.000      0.000           0.000000   \n",
       "23143               1      0.000      0.000           0.000000   \n",
       "...               ...        ...        ...                ...   \n",
       "21940               1      0.275      0.400           1.392188   \n",
       "21941               1      0.325      0.600           1.196591   \n",
       "21942               1      0.675      0.375           1.271512   \n",
       "21937               0      0.575      0.450           1.411364   \n",
       "21929               1      0.675      0.500           1.163298   \n",
       "\n",
       "       away_over_overall  win_avg5_home  Offensive_efficiency_avg5_home  \\\n",
       "23158           0.000000            NaN                             NaN   \n",
       "23157           0.000000            NaN                             NaN   \n",
       "23156           0.000000            NaN                             NaN   \n",
       "23142           0.000000            NaN                             NaN   \n",
       "23143           0.000000            NaN                             NaN   \n",
       "...                  ...            ...                             ...   \n",
       "21940           0.810000            0.0                        0.939859   \n",
       "21941           0.916981            0.4                        1.013044   \n",
       "21942           0.920455            0.6                        1.151729   \n",
       "21937           0.828409            0.2                        0.999480   \n",
       "21929           0.843750            0.6                        1.064400   \n",
       "\n",
       "       Defensive_efficiency_avg5_home  win_avg5_away  \\\n",
       "23158                             NaN            NaN   \n",
       "23157                             NaN            NaN   \n",
       "23156                             NaN            NaN   \n",
       "23142                             NaN            NaN   \n",
       "23143                             NaN            NaN   \n",
       "...                               ...            ...   \n",
       "21940                        1.131814            0.4   \n",
       "21941                        1.018009            1.0   \n",
       "21942                        1.141826            0.2   \n",
       "21937                        1.116903            0.8   \n",
       "21929                        1.056686            0.8   \n",
       "\n",
       "       Offensive_efficiency_avg5_away  Defensive_efficiency_avg5_away  \\\n",
       "23158                             NaN                             NaN   \n",
       "23157                             NaN                             NaN   \n",
       "23156                             NaN                             NaN   \n",
       "23142                             NaN                             NaN   \n",
       "23143                             NaN                             NaN   \n",
       "...                               ...                             ...   \n",
       "21940                        1.052562                        1.014081   \n",
       "21941                        1.106714                        0.955229   \n",
       "21942                        1.012882                        1.113672   \n",
       "21937                        1.135727                        1.051745   \n",
       "21929                        1.140118                        1.031627   \n",
       "\n",
       "          elo_home     elo_away  \n",
       "23158  1500.000000  1500.000000  \n",
       "23157  1500.000000  1500.000000  \n",
       "23156  1500.000000  1500.000000  \n",
       "23142  1500.000000  1500.000000  \n",
       "23143  1500.000000  1500.000000  \n",
       "...            ...          ...  \n",
       "21940  1297.919130  1509.965604  \n",
       "21941  1330.250343  1619.637738  \n",
       "21942  1562.671224  1439.808120  \n",
       "21937  1432.840377  1527.443124  \n",
       "21929  1561.682110  1570.319303  \n",
       "\n",
       "[1230 rows x 18 columns]"
      ]
     },
     "execution_count": 26,
     "metadata": {},
     "output_type": "execute_result"
    }
   ],
   "source": [
    "base_2015_final.to_csv('reg_2015.csv', index=False)\n",
    "base_2015_final"
   ]
  },
  {
   "cell_type": "markdown",
   "metadata": {},
   "source": [
    "This is the ELO for 2015-16 season"
   ]
  },
  {
   "cell_type": "code",
   "execution_count": 27,
   "metadata": {},
   "outputs": [
    {
     "data": {
      "text/html": [
       "<div>\n",
       "<style scoped>\n",
       "    .dataframe tbody tr th:only-of-type {\n",
       "        vertical-align: middle;\n",
       "    }\n",
       "\n",
       "    .dataframe tbody tr th {\n",
       "        vertical-align: top;\n",
       "    }\n",
       "\n",
       "    .dataframe thead th {\n",
       "        text-align: right;\n",
       "    }\n",
       "</style>\n",
       "<table border=\"1\" class=\"dataframe\">\n",
       "  <thead>\n",
       "    <tr style=\"text-align: right;\">\n",
       "      <th></th>\n",
       "      <th>TEAM_ID</th>\n",
       "      <th>ABBREVIATION</th>\n",
       "      <th>date</th>\n",
       "      <th>rating</th>\n",
       "    </tr>\n",
       "  </thead>\n",
       "  <tbody>\n",
       "    <tr>\n",
       "      <th>0</th>\n",
       "      <td>1610612737</td>\n",
       "      <td>ATL</td>\n",
       "      <td>2015-10-27</td>\n",
       "      <td>1500.000000</td>\n",
       "    </tr>\n",
       "    <tr>\n",
       "      <th>1</th>\n",
       "      <td>1610612738</td>\n",
       "      <td>BOS</td>\n",
       "      <td>2015-10-27</td>\n",
       "      <td>1500.000000</td>\n",
       "    </tr>\n",
       "    <tr>\n",
       "      <th>2</th>\n",
       "      <td>1610612740</td>\n",
       "      <td>NOP</td>\n",
       "      <td>2015-10-27</td>\n",
       "      <td>1500.000000</td>\n",
       "    </tr>\n",
       "    <tr>\n",
       "      <th>3</th>\n",
       "      <td>1610612741</td>\n",
       "      <td>CHI</td>\n",
       "      <td>2015-10-27</td>\n",
       "      <td>1500.000000</td>\n",
       "    </tr>\n",
       "    <tr>\n",
       "      <th>4</th>\n",
       "      <td>1610612742</td>\n",
       "      <td>DAL</td>\n",
       "      <td>2015-10-27</td>\n",
       "      <td>1500.000000</td>\n",
       "    </tr>\n",
       "    <tr>\n",
       "      <th>...</th>\n",
       "      <td>...</td>\n",
       "      <td>...</td>\n",
       "      <td>...</td>\n",
       "      <td>...</td>\n",
       "    </tr>\n",
       "    <tr>\n",
       "      <th>5125</th>\n",
       "      <td>1610612764</td>\n",
       "      <td>WAS</td>\n",
       "      <td>2016-04-14</td>\n",
       "      <td>1507.398643</td>\n",
       "    </tr>\n",
       "    <tr>\n",
       "      <th>5126</th>\n",
       "      <td>1610612765</td>\n",
       "      <td>DET</td>\n",
       "      <td>2016-04-14</td>\n",
       "      <td>1540.415062</td>\n",
       "    </tr>\n",
       "    <tr>\n",
       "      <th>5127</th>\n",
       "      <td>1610612766</td>\n",
       "      <td>CHA</td>\n",
       "      <td>2016-04-14</td>\n",
       "      <td>1575.674342</td>\n",
       "    </tr>\n",
       "    <tr>\n",
       "      <th>5128</th>\n",
       "      <td>1610612739</td>\n",
       "      <td>CLE</td>\n",
       "      <td>2016-04-14</td>\n",
       "      <td>1605.730038</td>\n",
       "    </tr>\n",
       "    <tr>\n",
       "      <th>5129</th>\n",
       "      <td>1610612744</td>\n",
       "      <td>GSW</td>\n",
       "      <td>2016-04-14</td>\n",
       "      <td>1764.709008</td>\n",
       "    </tr>\n",
       "  </tbody>\n",
       "</table>\n",
       "<p>5130 rows × 4 columns</p>\n",
       "</div>"
      ],
      "text/plain": [
       "         TEAM_ID ABBREVIATION       date       rating\n",
       "0     1610612737          ATL 2015-10-27  1500.000000\n",
       "1     1610612738          BOS 2015-10-27  1500.000000\n",
       "2     1610612740          NOP 2015-10-27  1500.000000\n",
       "3     1610612741          CHI 2015-10-27  1500.000000\n",
       "4     1610612742          DAL 2015-10-27  1500.000000\n",
       "...          ...          ...        ...          ...\n",
       "5125  1610612764          WAS 2016-04-14  1507.398643\n",
       "5126  1610612765          DET 2016-04-14  1540.415062\n",
       "5127  1610612766          CHA 2016-04-14  1575.674342\n",
       "5128  1610612739          CLE 2016-04-14  1605.730038\n",
       "5129  1610612744          GSW 2016-04-14  1764.709008\n",
       "\n",
       "[5130 rows x 4 columns]"
      ]
     },
     "execution_count": 27,
     "metadata": {},
     "output_type": "execute_result"
    }
   ],
   "source": [
    "teams_elo_2015.to_csv('elo_2015.csv', index=False)\n",
    "teams_elo_2015"
   ]
  },
  {
   "cell_type": "code",
   "execution_count": null,
   "metadata": {},
   "outputs": [],
   "source": []
  }
 ],
 "metadata": {
  "kernelspec": {
   "display_name": "Python 3",
   "language": "python",
   "name": "python3"
  },
  "language_info": {
   "codemirror_mode": {
    "name": "ipython",
    "version": 3
   },
   "file_extension": ".py",
   "mimetype": "text/x-python",
   "name": "python",
   "nbconvert_exporter": "python",
   "pygments_lexer": "ipython3",
   "version": "3.8.8"
  }
 },
 "nbformat": 4,
 "nbformat_minor": 4
}
